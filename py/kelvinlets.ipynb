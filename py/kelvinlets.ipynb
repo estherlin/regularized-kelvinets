{
 "cells": [
  {
   "cell_type": "code",
   "execution_count": 1,
   "metadata": {},
   "outputs": [],
   "source": [
    "import os\n",
    "import igl\n",
    "import json\n",
    "import numpy as np\n",
    "import polyscope as ps\n",
    "from meshplot import plot, subplot, interact"
   ]
  },
  {
   "cell_type": "markdown",
   "metadata": {},
   "source": [
    "# Kelvinlets\n",
    "Performs the deformation of a single point based on the regularized kelvinlets\n"
   ]
  },
  {
   "cell_type": "code",
   "execution_count": 2,
   "metadata": {},
   "outputs": [],
   "source": [
    "# Some important directories\n",
    "obj = \"decimated-knight\"\n",
    "actions = [\"scale\", \"pinch\", \"twist\"]\n",
    "DATA = \"../data/\"\n",
    "SAVE = f\"../results/_{obj}/\"\n"
   ]
  },
  {
   "cell_type": "code",
   "execution_count": 3,
   "metadata": {},
   "outputs": [],
   "source": [
    "# Make a results folder\n",
    "if not os.path.exists(SAVE):\n",
    "  \n",
    "  # Create a new directory because it does not exist \n",
    "  os.makedirs(SAVE)\n",
    "  for action in actions:\n",
    "    os.makedirs(f\"{SAVE}{action}/\")\n",
    "  print(f\"Images will be saved to {SAVE}!\")"
   ]
  },
  {
   "cell_type": "code",
   "execution_count": 4,
   "metadata": {},
   "outputs": [],
   "source": [
    "# a few options\n",
    "ps.set_program_name(\"Regularized Kelvinets\")\n",
    "ps.set_verbosity(2)\n",
    "ps.set_use_prefs_file(False)\n",
    "\n",
    "# enable auto centering and scaling\n",
    "ps.set_autocenter_structures(True)\n",
    "ps.set_autoscale_structures(True)"
   ]
  },
  {
   "cell_type": "code",
   "execution_count": 5,
   "metadata": {},
   "outputs": [],
   "source": [
    "# Read in an object\n",
    "v, f = igl.read_triangle_mesh(f\"{DATA}{obj}.off\")\n"
   ]
  },
  {
   "cell_type": "code",
   "execution_count": 6,
   "metadata": {},
   "outputs": [
    {
     "data": {
      "text/plain": [
       "{'scale': 314, 'pinch': 314, 'twist': 314}"
      ]
     },
     "execution_count": 6,
     "metadata": {},
     "output_type": "execute_result"
    }
   ],
   "source": [
    "# Read in the points we want to manipulate\n",
    "selected = open(f'{DATA}{obj}-selected.json')\n",
    "manipulate_points = json.load(selected)\n",
    "manipulate_points"
   ]
  },
  {
   "cell_type": "code",
   "execution_count": 7,
   "metadata": {},
   "outputs": [
    {
     "name": "stdout",
     "output_type": "stream",
     "text": [
      "[polyscope] Backend: openGL3_glfw -- Loaded openGL version: 4.1 INTEL-14.7.28\n"
     ]
    }
   ],
   "source": [
    "# Initialize polyscope\n",
    "ps.init()"
   ]
  },
  {
   "cell_type": "code",
   "execution_count": 8,
   "metadata": {},
   "outputs": [
    {
     "name": "stdout",
     "output_type": "stream",
     "text": [
      "[0. 0. 0.] (3,)\n",
      "(502, 3) (502,)\n",
      "(502, 3)\n"
     ]
    }
   ],
   "source": [
    "action = \"pinch\"\n",
    "#x0 = #np.array(v[manipulate_points[action], :])\n",
    "#x0[2] = 1.\n",
    "x0 = np.array([0., 0., 0.])\n",
    "print(x0, x0.shape)\n",
    "\n",
    "r = v - x0\n",
    "r_norm = np.linalg.norm(r, ord=2, axis=1)\n",
    "print(r.shape, r_norm.shape)\n",
    "\n",
    "epsilon = 0.5\n",
    "r_epsilon = np.sqrt(np.power(r_norm, 2) + epsilon**2)\n",
    "r_epsilon = np.stack([r_epsilon, r_epsilon, r_epsilon], axis=1)\n",
    "print(r_epsilon.shape)\n",
    "\n",
    "F_scale = np.identity(3)\n",
    "F_twist = np.array([[0., 1., -1.], [-1., 0., 1.], [1., -1., 0.]])\n",
    "F_pinch = np.array([[0., 1., 1.], [1., 0., 1.], [1., 1., 0.]])"
   ]
  },
  {
   "cell_type": "code",
   "execution_count": 9,
   "metadata": {},
   "outputs": [],
   "source": [
    "POISSON_RATIO = 10\n",
    "SHEAR_MODULUS = 0.11\n",
    "a = 1 / (4 * np.pi * SHEAR_MODULUS)\n",
    "b = a / (4 * (1 - POISSON_RATIO))\n",
    "c = 2 / (3 * a - 2 * b)"
   ]
  },
  {
   "cell_type": "code",
   "execution_count": 10,
   "metadata": {},
   "outputs": [],
   "source": [
    "# Register the mesh\n",
    "mesh = ps.register_surface_mesh(f'{obj}',v,f)\n",
    "#points = ps.register_point_cloud(f'pts', v)"
   ]
  },
  {
   "cell_type": "code",
   "execution_count": 11,
   "metadata": {},
   "outputs": [],
   "source": [
    "# Save original look\n",
    "t = 0\n",
    "ps.screenshot(filename=f\"{SAVE}{t:04d}.png\")"
   ]
  },
  {
   "cell_type": "markdown",
   "metadata": {},
   "source": [
    "## Deformation constants"
   ]
  },
  {
   "cell_type": "markdown",
   "metadata": {},
   "source": [
    "### Do twist"
   ]
  },
  {
   "cell_type": "code",
   "execution_count": 12,
   "metadata": {},
   "outputs": [],
   "source": [
    "t = 1"
   ]
  },
  {
   "cell_type": "code",
   "execution_count": 13,
   "metadata": {},
   "outputs": [],
   "source": [
    "t_disp = -a*np.multiply(( (1/np.power(r_epsilon, 3)) + (1.5*epsilon**2/np.power(r_epsilon, 5)) ), ((F_twist @ r.T).T))\n",
    "twist_v = 0.5*t_disp + v"
   ]
  },
  {
   "cell_type": "code",
   "execution_count": 14,
   "metadata": {},
   "outputs": [],
   "source": [
    "# Add scaled points\n",
    "#twist_pts = ps.register_point_cloud(f'twisted pts', twist_v)\n",
    "twist_mesh = ps.register_surface_mesh(f'{obj} twist',twist_v,f)"
   ]
  },
  {
   "cell_type": "code",
   "execution_count": 15,
   "metadata": {},
   "outputs": [],
   "source": [
    "ps.show()"
   ]
  }
 ],
 "metadata": {
  "kernelspec": {
   "display_name": "Python 3.9.13 ('kelvinets')",
   "language": "python",
   "name": "python3"
  },
  "language_info": {
   "codemirror_mode": {
    "name": "ipython",
    "version": 3
   },
   "file_extension": ".py",
   "mimetype": "text/x-python",
   "name": "python",
   "nbconvert_exporter": "python",
   "pygments_lexer": "ipython3",
   "version": "3.9.13"
  },
  "orig_nbformat": 4,
  "vscode": {
   "interpreter": {
    "hash": "822d07c46f07ace467a6430d08f6f75988d2b9c182a2bf977cbd46b135dd6667"
   }
  }
 },
 "nbformat": 4,
 "nbformat_minor": 2
}
